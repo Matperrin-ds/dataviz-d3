{
 "cells": [
  {
   "cell_type": "code",
   "execution_count": 1,
   "metadata": {},
   "outputs": [],
   "source": [
    "import pandas as pd"
   ]
  },
  {
   "cell_type": "code",
   "execution_count": null,
   "metadata": {},
   "outputs": [],
   "source": [
    "def transform_raw_csv_to_daily(path, year):\n",
    "    \n",
    "    csv = pd.read_csv(path, delimiter=\";\", encoding = \"ISO-8859-1\")\n",
    "    csv = csv.dropna()\n",
    "    csv['Date'] = pd.to_datetime(csv['Date'], dayfirst=True)\n",
    "    csv.set_index(csv[\"Date\"],inplace=True)\n",
    "    print(path, \" - \", csv.shape)\n",
    "    \n",
    "    conso_by_day = csv[\"Consommation\"].resample('D').sum()\n",
    "    conso_df = conso_by_day.to_frame()\n",
    "    conso_df[\"Date\"] = conso_df.index\n",
    "    conso_df[\"Jour\"] = conso_df[\"Date\"].dt.day\n",
    "    conso_df[\"Mois\"] = conso_df[\"Date\"].dt.month\n",
    "    conso_df[\"Année\"] = conso_df[\"Date\"].dt.year\n",
    "    \n",
    "    conso_df.to_csv(\"conso_by_day_%i.csv\" % year)"
   ]
  },
  {
   "cell_type": "code",
   "execution_count": 33,
   "metadata": {},
   "outputs": [],
   "source": [
    "path = 'edf_mix_2014.csv'\n",
    "year = 2014\n",
    "\n",
    "conso_df.to_csv(path, year)"
   ]
  },
  {
   "cell_type": "code",
   "execution_count": null,
   "metadata": {},
   "outputs": [],
   "source": []
  }
 ],
 "metadata": {
  "kernelspec": {
   "display_name": "Python (data_science)",
   "language": "python",
   "name": "data_science"
  },
  "language_info": {
   "codemirror_mode": {
    "name": "ipython",
    "version": 3
   },
   "file_extension": ".py",
   "mimetype": "text/x-python",
   "name": "python",
   "nbconvert_exporter": "python",
   "pygments_lexer": "ipython3",
   "version": "3.7.4"
  }
 },
 "nbformat": 4,
 "nbformat_minor": 2
}
